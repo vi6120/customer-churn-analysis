{
 "cells": [
  {
   "cell_type": "markdown",
   "metadata": {},
   "source": [
    "# Customer Churn Analysis - Exploratory Data Analysis\n",
    "\n",
    "This notebook performs comprehensive exploratory data analysis on customer churn data.\n",
    "\n",
    "**Educational Purpose**: This analysis is for learning and demonstration purposes only."
   ]
  },
  {
   "cell_type": "code",
   "execution_count": null,
   "metadata": {},
   "outputs": [],
   "source": [
    "# Import required libraries\n",
    "import pandas as pd\n",
    "import numpy as np\n",
    "import matplotlib.pyplot as plt\n",
    "import seaborn as sns\n",
    "import plotly.express as px\n",
    "import plotly.graph_objects as go\n",
    "from plotly.subplots import make_subplots\n",
    "import warnings\n",
    "warnings.filterwarnings('ignore')\n",
    "\n",
    "# Set style\n",
    "plt.style.use('seaborn-v0_8')\n",
    "sns.set_palette(\"husl\")\n",
    "\n",
    "# Import custom utilities\n",
    "import sys\n",
    "sys.path.append('..')\n",
    "import utils"
   ]
  },
  {
   "cell_type": "markdown",
   "metadata": {},
   "source": [
    "## 1. Data Loading and Initial Exploration"
   ]
  },
  {
   "cell_type": "code",
   "execution_count": null,
   "metadata": {},
   "outputs": [],
   "source": [
    "# Load the dataset\n",
    "# Note: Download the Telco Customer Churn dataset from Kaggle\n",
    "# https://www.kaggle.com/blastchar/telco-customer-churn\n",
    "\n",
    "# For demonstration, we'll create sample data\n",
    "np.random.seed(42)\n",
    "n_samples = 2000\n",
    "\n",
    "# Create sample dataset\n",
    "data = {\n",
    "    'customerID': [f'C{i:04d}' for i in range(n_samples)],\n",
    "    'gender': np.random.choice(['Male', 'Female'], n_samples),\n",
    "    'SeniorCitizen': np.random.choice([0, 1], n_samples, p=[0.8, 0.2]),\n",
    "    'Partner': np.random.choice(['Yes', 'No'], n_samples),\n",
    "    'Dependents': np.random.choice(['Yes', 'No'], n_samples, p=[0.3, 0.7]),\n",
    "    'tenure': np.random.randint(1, 73, n_samples),\n",
    "    'PhoneService': np.random.choice(['Yes', 'No'], n_samples, p=[0.9, 0.1]),\n",
    "    'MultipleLines': np.random.choice(['Yes', 'No', 'No phone service'], n_samples, p=[0.4, 0.5, 0.1]),\n",
    "    'InternetService': np.random.choice(['DSL', 'Fiber optic', 'No'], n_samples, p=[0.4, 0.4, 0.2]),\n",
    "    'OnlineSecurity': np.random.choice(['Yes', 'No', 'No internet service'], n_samples, p=[0.3, 0.5, 0.2]),\n",
    "    'OnlineBackup': np.random.choice(['Yes', 'No', 'No internet service'], n_samples, p=[0.3, 0.5, 0.2]),\n",
    "    'DeviceProtection': np.random.choice(['Yes', 'No', 'No internet service'], n_samples, p=[0.3, 0.5, 0.2]),\n",
    "    'TechSupport': np.random.choice(['Yes', 'No', 'No internet service'], n_samples, p=[0.3, 0.5, 0.2]),\n",
    "    'StreamingTV': np.random.choice(['Yes', 'No', 'No internet service'], n_samples, p=[0.3, 0.5, 0.2]),\n",
    "    'StreamingMovies': np.random.choice(['Yes', 'No', 'No internet service'], n_samples, p=[0.3, 0.5, 0.2]),\n",
    "    'Contract': np.random.choice(['Month-to-month', 'One year', 'Two year'], n_samples, p=[0.5, 0.3, 0.2]),\n",
    "    'PaperlessBilling': np.random.choice(['Yes', 'No'], n_samples),\n",
    "    'PaymentMethod': np.random.choice(['Electronic check', 'Mailed check', 'Bank transfer (automatic)', 'Credit card (automatic)'], n_samples),\n",
    "    'MonthlyCharges': np.random.uniform(18.25, 118.75, n_samples),\n",
    "    'TotalCharges': np.random.uniform(18.8, 8684.8, n_samples)\n",
    "}\n",
    "\n",
    "# Create churn based on realistic patterns\n",
    "churn_prob = np.zeros(n_samples)\n",
    "for i in range(n_samples):\n",
    "    prob = 0.1  # Base probability\n",
    "    \n",
    "    # Contract type influence\n",
    "    if data['Contract'][i] == 'Month-to-month':\n",
    "        prob += 0.3\n",
    "    elif data['Contract'][i] == 'One year':\n",
    "        prob += 0.1\n",
    "    \n",
    "    # Tenure influence\n",
    "    if data['tenure'][i] <= 12:\n",
    "        prob += 0.2\n",
    "    elif data['tenure'][i] <= 24:\n",
    "        prob += 0.1\n",
    "    \n",
    "    # Monthly charges influence\n",
    "    if data['MonthlyCharges'][i] > 80:\n",
    "        prob += 0.15\n",
    "    \n",
    "    # Internet service influence\n",
    "    if data['InternetService'][i] == 'Fiber optic':\n",
    "        prob += 0.1\n",
    "    \n",
    "    # Payment method influence\n",
    "    if data['PaymentMethod'][i] == 'Electronic check':\n",
    "        prob += 0.1\n",
    "    \n",
    "    churn_prob[i] = min(prob, 0.8)  # Cap at 80%\n",
    "\n",
    "data['Churn'] = np.random.binomial(1, churn_prob, n_samples)\n",
    "data['Churn'] = ['Yes' if x == 1 else 'No' for x in data['Churn']]\n",
    "\n",
    "df = pd.DataFrame(data)\n",
    "\n",
    "print(f\"Dataset shape: {df.shape}\")\n",
    "print(f\"\\nDataset info:\")\n",
    "df.info()"
   ]
  },
  {
   "cell_type": "code",
   "execution_count": null,
   "metadata": {},
   "outputs": [],
   "source": [
    "# Display first few rows\n",
    "df.head()"
   ]
  },
  {
   "cell_type": "code",
   "execution_count": null,
   "metadata": {},
   "outputs": [],
   "source": [
    "# Basic statistics\n",
    "df.describe()"
   ]
  },
  {
   "cell_type": "markdown",
   "metadata": {},
   "source": [
    "## 2. Data Cleaning and Preprocessing"
   ]
  },
  {
   "cell_type": "code",
   "execution_count": null,
   "metadata": {},
   "outputs": [],
   "source": [
    "# Check for missing values\n",
    "print(\"Missing values:\")\n",
    "print(df.isnull().sum())\n",
    "\n",
    "# Check data types\n",
    "print(\"\\nData types:\")\n",
    "print(df.dtypes)"
   ]
  },
  {
   "cell_type": "code",
   "execution_count": null,
   "metadata": {},
   "outputs": [],
   "source": [
    "# Clean the data using utility function\n",
    "df_clean = utils.load_and_clean_data(df) if hasattr(utils, 'load_and_clean_data') else df.copy()\n",
    "\n",
    "# Convert Churn to binary if it's not already\n",
    "if df_clean['Churn'].dtype == 'object':\n",
    "    df_clean['Churn'] = df_clean['Churn'].map({'Yes': 1, 'No': 0})\n",
    "\n",
    "print(f\"Cleaned dataset shape: {df_clean.shape}\")\n",
    "print(f\"Churn distribution: {df_clean['Churn'].value_counts()}\")"
   ]
  },
  {
   "cell_type": "markdown",
   "metadata": {},
   "source": [
    "## 3. Exploratory Data Analysis"
   ]
  },
  {
   "cell_type": "markdown",
   "metadata": {},
   "source": [
    "### 3.1 Churn Distribution"
   ]
  },
  {
   "cell_type": "code",
   "execution_count": null,
   "metadata": {},
   "outputs": [],
   "source": [
    "# Overall churn rate\n",
    "churn_rate = df_clean['Churn'].mean()\n",
    "print(f\"Overall churn rate: {churn_rate:.2%}\")\n",
    "\n",
    "# Visualize churn distribution\n",
    "fig, (ax1, ax2) = plt.subplots(1, 2, figsize=(12, 5))\n",
    "\n",
    "# Pie chart\n",
    "churn_counts = df_clean['Churn'].value_counts()\n",
    "ax1.pie(churn_counts.values, labels=['No Churn', 'Churn'], autopct='%1.1f%%', startangle=90)\n",
    "ax1.set_title('Churn Distribution')\n",
    "\n",
    "# Bar chart\n",
    "churn_counts.plot(kind='bar', ax=ax2, color=['skyblue', 'salmon'])\n",
    "ax2.set_title('Churn Count')\n",
    "ax2.set_xlabel('Churn')\n",
    "ax2.set_ylabel('Count')\n",
    "ax2.tick_params(axis='x', rotation=0)\n",
    "\n",
    "plt.tight_layout()\n",
    "plt.show()"
   ]
  },
  {
   "cell_type": "markdown",
   "metadata": {},
   "source": [
    "### 3.2 Churn by Categorical Features"
   ]
  },
  {
   "cell_type": "code",
   "execution_count": null,
   "metadata": {},
   "outputs": [],
   "source": [
    "# Analyze churn by categorical features\n",
    "categorical_features = ['gender', 'SeniorCitizen', 'Partner', 'Dependents', 'PhoneService', \n",
    "                       'InternetService', 'Contract', 'PaperlessBilling', 'PaymentMethod']\n",
    "\n",
    "fig, axes = plt.subplots(3, 3, figsize=(18, 15))\n",
    "axes = axes.ravel()\n",
    "\n",
    "for i, feature in enumerate(categorical_features):\n",
    "    if feature in df_clean.columns:\n",
    "        churn_by_feature = df_clean.groupby(feature)['Churn'].agg(['count', 'sum']).reset_index()\n",
    "        churn_by_feature['churn_rate'] = churn_by_feature['sum'] / churn_by_feature['count']\n",
    "        \n",
    "        churn_by_feature.plot(x=feature, y='churn_rate', kind='bar', ax=axes[i], \n",
    "                             color='coral', legend=False)\n",
    "        axes[i].set_title(f'Churn Rate by {feature}')\n",
    "        axes[i].set_ylabel('Churn Rate')\n",
    "        axes[i].tick_params(axis='x', rotation=45)\n",
    "\n",
    "plt.tight_layout()\n",
    "plt.show()"
   ]
  },
  {
   "cell_type": "markdown",
   "metadata": {},
   "source": [
    "### 3.3 Churn by Numerical Features"
   ]
  },
  {
   "cell_type": "code",
   "execution_count": null,
   "metadata": {},
   "outputs": [],
   "source": [
    "# Analyze numerical features\n",
    "numerical_features = ['tenure', 'MonthlyCharges', 'TotalCharges']\n",
    "\n",
    "fig, axes = plt.subplots(2, 3, figsize=(18, 10))\n",
    "\n",
    "for i, feature in enumerate(numerical_features):\n",
    "    if feature in df_clean.columns:\n",
    "        # Distribution by churn\n",
    "        df_clean[df_clean['Churn'] == 0][feature].hist(alpha=0.7, label='No Churn', \n",
    "                                                       bins=30, ax=axes[0, i])\n",
    "        df_clean[df_clean['Churn'] == 1][feature].hist(alpha=0.7, label='Churn', \n",
    "                                                       bins=30, ax=axes[0, i])\n",
    "        axes[0, i].set_title(f'{feature} Distribution by Churn')\n",
    "        axes[0, i].legend()\n",
    "        \n",
    "        # Box plot\n",
    "        df_clean.boxplot(column=feature, by='Churn', ax=axes[1, i])\n",
    "        axes[1, i].set_title(f'{feature} by Churn')\n",
    "\n",
    "plt.tight_layout()\n",
    "plt.show()"
   ]
  },
  {
   "cell_type": "markdown",
   "metadata": {},
   "source": [
    "### 3.4 Correlation Analysis"
   ]
  },
  {
   "cell_type": "code",
   "execution_count": null,
   "metadata": {},
   "outputs": [],
   "source": [
    "# Encode categorical variables for correlation analysis\n",
    "df_encoded, encoders = utils.encode_categorical_features(df_clean)\n",
    "\n",
    "# Calculate correlation matrix\n",
    "correlation_matrix = df_encoded.select_dtypes(include=[np.number]).corr()\n",
    "\n",
    "# Plot correlation heatmap\n",
    "plt.figure(figsize=(12, 10))\n",
    "sns.heatmap(correlation_matrix, annot=True, cmap='coolwarm', center=0, \n",
    "            square=True, fmt='.2f')\n",
    "plt.title('Feature Correlation Matrix')\n",
    "plt.tight_layout()\n",
    "plt.show()"
   ]
  },
  {
   "cell_type": "code",
   "execution_count": null,
   "metadata": {},
   "outputs": [],
   "source": [
    "# Features most correlated with churn\n",
    "churn_correlations = correlation_matrix['Churn'].abs().sort_values(ascending=False)\n",
    "print(\"Features most correlated with churn:\")\n",
    "print(churn_correlations.head(10))"
   ]
  },
  {
   "cell_type": "markdown",
   "metadata": {},
   "source": [
    "### 3.5 Advanced Analysis"
   ]
  },
  {
   "cell_type": "code",
   "execution_count": null,
   "metadata": {},
   "outputs": [],
   "source": [
    "# Tenure vs Monthly Charges scatter plot\n",
    "plt.figure(figsize=(12, 8))\n",
    "scatter = plt.scatter(df_clean['tenure'], df_clean['MonthlyCharges'], \n",
    "                     c=df_clean['Churn'], alpha=0.6, cmap='coolwarm')\n",
    "plt.colorbar(scatter, label='Churn (0=No, 1=Yes)')\n",
    "plt.xlabel('Tenure (months)')\n",
    "plt.ylabel('Monthly Charges ($)')\n",
    "plt.title('Tenure vs Monthly Charges by Churn Status')\n",
    "plt.show()"
   ]
  },
  {
   "cell_type": "code",
   "execution_count": null,
   "metadata": {},
   "outputs": [],
   "source": [
    "# Churn rate by tenure groups\n",
    "df_clean['tenure_group'] = pd.cut(df_clean['tenure'], \n",
    "                                 bins=[0, 12, 24, 36, 48, 72], \n",
    "                                 labels=['0-12', '13-24', '25-36', '37-48', '49-72'])\n",
    "\n",
    "tenure_churn = df_clean.groupby('tenure_group')['Churn'].agg(['count', 'sum']).reset_index()\n",
    "tenure_churn['churn_rate'] = tenure_churn['sum'] / tenure_churn['count']\n",
    "\n",
    "plt.figure(figsize=(10, 6))\n",
    "plt.bar(tenure_churn['tenure_group'], tenure_churn['churn_rate'], color='lightcoral')\n",
    "plt.xlabel('Tenure Group (months)')\n",
    "plt.ylabel('Churn Rate')\n",
    "plt.title('Churn Rate by Tenure Groups')\n",
    "plt.xticks(rotation=45)\n",
    "plt.show()"
   ]
  },
  {
   "cell_type": "markdown",
   "metadata": {},
   "source": [
    "## 4. Key Insights and Findings"
   ]
  },
  {
   "cell_type": "code",
   "execution_count": null,
   "metadata": {},
   "outputs": [],
   "source": [
    "# Generate business insights\n",
    "print(\"KEY FINDINGS FROM EXPLORATORY DATA ANALYSIS:\")\n",
    "print(\"=\" * 50)\n",
    "\n",
    "print(f\"1. Overall churn rate: {df_clean['Churn'].mean():.1%}\")\n",
    "\n",
    "# Contract analysis\n",
    "if 'Contract' in df_clean.columns:\n",
    "    contract_churn = df_clean.groupby('Contract')['Churn'].mean()\n",
    "    print(f\"\\n2. Churn by Contract Type:\")\n",
    "    for contract, rate in contract_churn.items():\n",
    "        print(f\"   - {contract}: {rate:.1%}\")\n",
    "\n",
    "# Tenure analysis\n",
    "if 'tenure' in df_clean.columns:\n",
    "    new_customers_churn = df_clean[df_clean['tenure'] <= 12]['Churn'].mean()\n",
    "    print(f\"\\n3. New customers (≤12 months) churn rate: {new_customers_churn:.1%}\")\n",
    "\n",
    "# Payment method analysis\n",
    "if 'PaymentMethod' in df_clean.columns:\n",
    "    payment_churn = df_clean.groupby('PaymentMethod')['Churn'].mean().sort_values(ascending=False)\n",
    "    print(f\"\\n4. Highest risk payment method: {payment_churn.index[0]} ({payment_churn.iloc[0]:.1%})\")\n",
    "\n",
    "# Monthly charges analysis\n",
    "if 'MonthlyCharges' in df_clean.columns:\n",
    "    high_charges_churn = df_clean[df_clean['MonthlyCharges'] > df_clean['MonthlyCharges'].quantile(0.75)]['Churn'].mean()\n",
    "    print(f\"\\n5. High monthly charges (top 25%) churn rate: {high_charges_churn:.1%}\")\n",
    "\n",
    "print(\"\\nRECOMMENDations:\")\n",
    "print(\"=\" * 20)\n",
    "print(\"- Focus retention efforts on month-to-month contract customers\")\n",
    "print(\"- Implement early intervention programs for new customers\")\n",
    "print(\"- Review pricing strategy for high-charge customers\")\n",
    "print(\"- Encourage automatic payment methods\")\n",
    "print(\"- Develop loyalty programs for long-term customers\")"
   ]
  },
  {
   "cell_type": "markdown",
   "metadata": {},
   "source": [
    "## 5. Data Export for Modeling"
   ]
  },
  {
   "cell_type": "code",
   "execution_count": null,
   "metadata": {},
   "outputs": [],
   "source": [
    "# Save cleaned data for modeling\n",
    "df_clean.to_csv('../data/cleaned_churn_data.csv', index=False)\n",
    "print(\"Cleaned data saved to '../data/cleaned_churn_data.csv'\")\n",
    "\n",
    "# Save encoded data for modeling\n",
    "df_encoded.to_csv('../data/encoded_churn_data.csv', index=False)\n",
    "print(\"Encoded data saved to '../data/encoded_churn_data.csv'\")"
   ]
  }
 ],
 "metadata": {
  "kernelspec": {
   "display_name": "Python 3",
   "language": "python",
   "name": "python3"
  },
  "language_info": {
   "codemirror_mode": {
    "name": "ipython",
    "version": 3
   },
   "file_extension": ".py",
   "mimetype": "text/x-python",
   "name": "python",
   "nbconvert_exporter": "python",
   "pygments_lexer": "ipython3",
   "version": "3.8.5"
  }
 },
 "nbformat": 4,
 "nbformat_minor": 4
}