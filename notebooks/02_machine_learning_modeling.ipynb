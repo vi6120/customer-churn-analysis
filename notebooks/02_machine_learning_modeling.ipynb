{
 "cells": [
  {
   "cell_type": "markdown",
   "metadata": {},
   "source": [
    "# Customer Churn Analysis - Machine Learning Modeling\n",
    "\n",
    "This notebook builds and evaluates machine learning models for customer churn prediction.\n",
    "\n",
    "**Educational Purpose**: This analysis is for learning and demonstration purposes only."
   ]
  },
  {
   "cell_type": "code",
   "execution_count": null,
   "metadata": {},
   "outputs": [],
   "source": [
    "# Import required libraries\n",
    "import pandas as pd\n",
    "import numpy as np\n",
    "import matplotlib.pyplot as plt\n",
    "import seaborn as sns\n",
    "import pickle\n",
    "from sklearn.model_selection import train_test_split, cross_val_score, GridSearchCV\n",
    "from sklearn.preprocessing import StandardScaler\n",
    "from sklearn.linear_model import LogisticRegression\n",
    "from sklearn.ensemble import RandomForestClassifier\n",
    "from sklearn.metrics import accuracy_score, precision_score, recall_score, f1_score, roc_auc_score\n",
    "from sklearn.metrics import confusion_matrix, classification_report, roc_curve\n",
    "import xgboost as xgb\n",
    "import warnings\n",
    "warnings.filterwarnings('ignore')\n",
    "\n",
    "# Import custom utilities\n",
    "import sys\n",
    "sys.path.append('..')\n",
    "import utils"
   ]
  },
  {
   "cell_type": "markdown",
   "metadata": {},
   "source": [
    "## 1. Data Loading and Preparation"
   ]
  },
  {
   "cell_type": "code",
   "execution_count": null,
   "metadata": {},
   "outputs": [],
   "source": [
    "# Load cleaned data from EDA notebook\n",
    "try:\n",
    "    df = pd.read_csv('../data/cleaned_churn_data.csv')\n",
    "    print(\"Loaded cleaned data from EDA notebook\")\n",
    "except FileNotFoundError:\n",
    "    print(\"Creating sample data for modeling...\")\n",
    "    # Create sample data if file doesn't exist\n",
    "    np.random.seed(42)\n",
    "    n_samples = 2000\n",
    "    \n",
    "    data = {\n",
    "        'customerID': [f'C{i:04d}' for i in range(n_samples)],\n",
    "        'gender': np.random.choice(['Male', 'Female'], n_samples),\n",
    "        'SeniorCitizen': np.random.choice([0, 1], n_samples, p=[0.8, 0.2]),\n",
    "        'Partner': np.random.choice(['Yes', 'No'], n_samples),\n",
    "        'Dependents': np.random.choice(['Yes', 'No'], n_samples, p=[0.3, 0.7]),\n",
    "        'tenure': np.random.randint(1, 73, n_samples),\n",
    "        'PhoneService': np.random.choice(['Yes', 'No'], n_samples, p=[0.9, 0.1]),\n",
    "        'InternetService': np.random.choice(['DSL', 'Fiber optic', 'No'], n_samples, p=[0.4, 0.4, 0.2]),\n",
    "        'Contract': np.random.choice(['Month-to-month', 'One year', 'Two year'], n_samples, p=[0.5, 0.3, 0.2]),\n",
    "        'PaymentMethod': np.random.choice(['Electronic check', 'Mailed check', 'Bank transfer', 'Credit card'], n_samples),\n",
    "        'MonthlyCharges': np.random.uniform(20, 120, n_samples),\n",
    "        'TotalCharges': np.random.uniform(20, 8000, n_samples),\n",
    "    }\n",
    "    \n",
    "    # Create realistic churn patterns\n",
    "    churn_prob = (\n",
    "        (np.array([x == 'Month-to-month' for x in data['Contract']]) * 0.3) +\n",
    "        (np.array(data['tenure']) < 12) * 0.2 +\n",
    "        (np.array(data['MonthlyCharges']) > 80) * 0.2 +\n",
    "        np.random.random(n_samples) * 0.3\n",
    "    )\n",
    "    data['Churn'] = (churn_prob > 0.5).astype(int)\n",
    "    \n",
    "    df = pd.DataFrame(data)\n",
    "\n",
    "print(f\"Dataset shape: {df.shape}\")\n",
    "print(f\"Churn rate: {df['Churn'].mean():.2%}\")"
   ]
  },
  {
   "cell_type": "code",
   "execution_count": null,
   "metadata": {},
   "outputs": [],
   "source": [
    "# Encode categorical features\n",
    "df_encoded, encoders = utils.encode_categorical_features(df)\n",
    "\n",
    "# Prepare features and target\n",
    "X, y, feature_names = utils.prepare_features(df_encoded)\n",
    "\n",
    "print(f\"Features shape: {X.shape}\")\n",
    "print(f\"Target distribution: {y.value_counts()}\")\n",
    "print(f\"Feature names: {feature_names}\")"
   ]
  },
  {
   "cell_type": "markdown",
   "metadata": {},
   "source": [
    "## 2. Train-Test Split"
   ]
  },
  {
   "cell_type": "code",
   "execution_count": null,
   "metadata": {},
   "outputs": [],
   "source": [
    "# Split the data\n",
    "X_train, X_test, y_train, y_test = train_test_split(\n",
    "    X, y, test_size=0.2, random_state=42, stratify=y\n",
    ")\n",
    "\n",
    "print(f\"Training set size: {X_train.shape[0]}\")\n",
    "print(f\"Test set size: {X_test.shape[0]}\")\n",
    "print(f\"Training churn rate: {y_train.mean():.2%}\")\n",
    "print(f\"Test churn rate: {y_test.mean():.2%}\")"
   ]
  },
  {
   "cell_type": "markdown",
   "metadata": {},
   "source": [
    "## 3. Model Training and Evaluation"
   ]
  },
  {
   "cell_type": "markdown",
   "metadata": {},
   "source": [
    "### 3.1 Logistic Regression"
   ]
  },
  {
   "cell_type": "code",
   "execution_count": null,
   "metadata": {},
   "outputs": [],
   "source": [
    "# Scale features for Logistic Regression\n",
    "scaler = StandardScaler()\n",
    "X_train_scaled = scaler.fit_transform(X_train)\n",
    "X_test_scaled = scaler.transform(X_test)\n",
    "\n",
    "# Train Logistic Regression\n",
    "lr_model = LogisticRegression(random_state=42, max_iter=1000)\n",
    "lr_model.fit(X_train_scaled, y_train)\n",
    "\n",
    "# Evaluate\n",
    "lr_metrics = utils.evaluate_model(lr_model, X_test_scaled, y_test)\n",
    "print(\"Logistic Regression Performance:\")\n",
    "for metric, value in lr_metrics.items():\n",
    "    print(f\"{metric.capitalize()}: {value:.4f}\")"
   ]
  },
  {
   "cell_type": "markdown",
   "metadata": {},
   "source": [
    "### 3.2 Random Forest"
   ]
  },
  {
   "cell_type": "code",
   "execution_count": null,
   "metadata": {},
   "outputs": [],
   "source": [
    "# Train Random Forest\n",
    "rf_model = RandomForestClassifier(n_estimators=100, random_state=42)\n",
    "rf_model.fit(X_train, y_train)\n",
    "\n",
    "# Evaluate\n",
    "rf_metrics = utils.evaluate_model(rf_model, X_test, y_test)\n",
    "print(\"Random Forest Performance:\")\n",
    "for metric, value in rf_metrics.items():\n",
    "    print(f\"{metric.capitalize()}: {value:.4f}\")"
   ]
  },
  {
   "cell_type": "markdown",
   "metadata": {},
   "source": [
    "### 3.3 XGBoost"
   ]
  },
  {
   "cell_type": "code",
   "execution_count": null,
   "metadata": {},
   "outputs": [],
   "source": [
    "# Train XGBoost\n",
    "xgb_model = xgb.XGBClassifier(random_state=42, eval_metric='logloss')\n",
    "xgb_model.fit(X_train, y_train)\n",
    "\n",
    "# Evaluate\n",
    "xgb_metrics = utils.evaluate_model(xgb_model, X_test, y_test)\n",
    "print(\"XGBoost Performance:\")\n",
    "for metric, value in xgb_metrics.items():\n",
    "    print(f\"{metric.capitalize()}: {value:.4f}\")"
   ]
  },
  {
   "cell_type": "markdown",
   "metadata": {},
   "source": [
    "## 4. Model Comparison"
   ]
  },
  {
   "cell_type": "code",
   "execution_count": null,
   "metadata": {},
   "outputs": [],
   "source": [
    "# Compare all models\n",
    "results_df = pd.DataFrame({\n",
    "    'Logistic Regression': lr_metrics,\n",
    "    'Random Forest': rf_metrics,\n",
    "    'XGBoost': xgb_metrics\n",
    "}).T\n",
    "\n",
    "print(\"Model Comparison:\")\n",
    "print(results_df.round(4))\n",
    "\n",
    "# Visualize comparison\n",
    "fig, axes = plt.subplots(1, 2, figsize=(15, 6))\n",
    "\n",
    "# Metrics comparison\n",
    "results_df[['accuracy', 'precision', 'recall', 'f1']].plot(kind='bar', ax=axes[0])\n",
    "axes[0].set_title('Model Performance Comparison')\n",
    "axes[0].set_ylabel('Score')\n",
    "axes[0].legend(bbox_to_anchor=(1.05, 1), loc='upper left')\n",
    "axes[0].tick_params(axis='x', rotation=45)\n",
    "\n",
    "# ROC AUC comparison\n",
    "results_df['roc_auc'].plot(kind='bar', ax=axes[1], color='orange')\n",
    "axes[1].set_title('ROC AUC Comparison')\n",
    "axes[1].set_ylabel('ROC AUC Score')\n",
    "axes[1].tick_params(axis='x', rotation=45)\n",
    "\n",
    "plt.tight_layout()\n",
    "plt.show()"
   ]
  },
  {
   "cell_type": "markdown",
   "metadata": {},
   "source": [
    "## 5. Feature Importance Analysis"
   ]
  },
  {
   "cell_type": "code",
   "execution_count": null,
   "metadata": {},
   "outputs": [],
   "source": [
    "# Random Forest Feature Importance\n",
    "rf_importance = pd.DataFrame({\n",
    "    'feature': feature_names,\n",
    "    'importance': rf_model.feature_importances_\n",
    "}).sort_values('importance', ascending=False)\n",
    "\n",
    "# XGBoost Feature Importance\n",
    "xgb_importance = pd.DataFrame({\n",
    "    'feature': feature_names,\n",
    "    'importance': xgb_model.feature_importances_\n",
    "}).sort_values('importance', ascending=False)\n",
    "\n",
    "# Plot feature importance\n",
    "fig, axes = plt.subplots(1, 2, figsize=(16, 8))\n",
    "\n",
    "# Random Forest\n",
    "rf_importance.head(10).plot(x='feature', y='importance', kind='barh', ax=axes[0])\n",
    "axes[0].set_title('Random Forest - Top 10 Feature Importance')\n",
    "axes[0].set_xlabel('Importance')\n",
    "\n",
    "# XGBoost\n",
    "xgb_importance.head(10).plot(x='feature', y='importance', kind='barh', ax=axes[1])\n",
    "axes[1].set_title('XGBoost - Top 10 Feature Importance')\n",
    "axes[1].set_xlabel('Importance')\n",
    "\n",
    "plt.tight_layout()\n",
    "plt.show()\n",
    "\n",
    "print(\"Top 5 Important Features (Random Forest):\")\n",
    "print(rf_importance.head())\n",
    "\n",
    "print(\"\\nTop 5 Important Features (XGBoost):\")\n",
    "print(xgb_importance.head())"
   ]
  },
  {
   "cell_type": "markdown",
   "metadata": {},
   "source": [
    "## 6. ROC Curve Analysis"
   ]
  },
  {
   "cell_type": "code",
   "execution_count": null,
   "metadata": {},
   "outputs": [],
   "source": [
    "# Plot ROC curves for all models\n",
    "plt.figure(figsize=(10, 8))\n",
    "\n",
    "# Logistic Regression ROC\n",
    "lr_proba = lr_model.predict_proba(X_test_scaled)[:, 1]\n",
    "lr_fpr, lr_tpr, _ = roc_curve(y_test, lr_proba)\n",
    "plt.plot(lr_fpr, lr_tpr, label=f'Logistic Regression (AUC = {lr_metrics[\"roc_auc\"]:.3f})')\n",
    "\n",
    "# Random Forest ROC\n",
    "rf_proba = rf_model.predict_proba(X_test)[:, 1]\n",
    "rf_fpr, rf_tpr, _ = roc_curve(y_test, rf_proba)\n",
    "plt.plot(rf_fpr, rf_tpr, label=f'Random Forest (AUC = {rf_metrics[\"roc_auc\"]:.3f})')\n",
    "\n",
    "# XGBoost ROC\n",
    "xgb_proba = xgb_model.predict_proba(X_test)[:, 1]\n",
    "xgb_fpr, xgb_tpr, _ = roc_curve(y_test, xgb_proba)\n",
    "plt.plot(xgb_fpr, xgb_tpr, label=f'XGBoost (AUC = {xgb_metrics[\"roc_auc\"]:.3f})')\n",
    "\n",
    "# Random classifier line\n",
    "plt.plot([0, 1], [0, 1], 'k--', label='Random Classifier')\n",
    "\n",
    "plt.xlabel('False Positive Rate')\n",
    "plt.ylabel('True Positive Rate')\n",
    "plt.title('ROC Curves Comparison')\n",
    "plt.legend()\n",
    "plt.grid(True)\n",
    "plt.show()"
   ]
  },
  {
   "cell_type": "markdown",
   "metadata": {},
   "source": [
    "## 7. Confusion Matrix"
   ]
  },
  {
   "cell_type": "code",
   "execution_count": null,
   "metadata": {},
   "outputs": [],
   "source": [
    "# Plot confusion matrices\n",
    "fig, axes = plt.subplots(1, 3, figsize=(18, 5))\n",
    "\n",
    "models = [\n",
    "    ('Logistic Regression', lr_model, X_test_scaled),\n",
    "    ('Random Forest', rf_model, X_test),\n",
    "    ('XGBoost', xgb_model, X_test)\n",
    "]\n",
    "\n",
    "for i, (name, model, X_test_data) in enumerate(models):\n",
    "    y_pred = model.predict(X_test_data)\n",
    "    cm = confusion_matrix(y_test, y_pred)\n",
    "    \n",
    "    sns.heatmap(cm, annot=True, fmt='d', cmap='Blues', ax=axes[i])\n",
    "    axes[i].set_title(f'{name} Confusion Matrix')\n",
    "    axes[i].set_xlabel('Predicted')\n",
    "    axes[i].set_ylabel('Actual')\n",
    "\n",
    "plt.tight_layout()\n",
    "plt.show()"
   ]
  },
  {
   "cell_type": "markdown",
   "metadata": {},
   "source": [
    "## 8. Model Selection and Hyperparameter Tuning"
   ]
  },
  {
   "cell_type": "code",
   "execution_count": null,
   "metadata": {},
   "outputs": [],
   "source": [
    "# Select best model based on ROC AUC\n",
    "best_model_name = results_df['roc_auc'].idxmax()\n",
    "print(f\"Best model based on ROC AUC: {best_model_name}\")\n",
    "\n",
    "# Hyperparameter tuning for Random Forest (if it's the best)\n",
    "if best_model_name == 'Random Forest':\n",
    "    print(\"\\nPerforming hyperparameter tuning for Random Forest...\")\n",
    "    \n",
    "    param_grid = {\n",
    "        'n_estimators': [50, 100, 200],\n",
    "        'max_depth': [10, 20, None],\n",
    "        'min_samples_split': [2, 5, 10]\n",
    "    }\n",
    "    \n",
    "    grid_search = GridSearchCV(\n",
    "        RandomForestClassifier(random_state=42),\n",
    "        param_grid,\n",
    "        cv=5,\n",
    "        scoring='roc_auc',\n",
    "        n_jobs=-1\n",
    "    )\n",
    "    \n",
    "    grid_search.fit(X_train, y_train)\n",
    "    \n",
    "    print(f\"Best parameters: {grid_search.best_params_}\")\n",
    "    print(f\"Best cross-validation score: {grid_search.best_score_:.4f}\")\n",
    "    \n",
    "    # Evaluate tuned model\n",
    "    tuned_model = grid_search.best_estimator_\n",
    "    tuned_metrics = utils.evaluate_model(tuned_model, X_test, y_test)\n",
    "    \n",
    "    print(\"\\nTuned Random Forest Performance:\")\n",
    "    for metric, value in tuned_metrics.items():\n",
    "        print(f\"{metric.capitalize()}: {value:.4f}\")\n",
    "    \n",
    "    # Use tuned model as final model\n",
    "    final_model = tuned_model\n",
    "else:\n",
    "    # Use the best model without tuning\n",
    "    if best_model_name == 'Logistic Regression':\n",
    "        final_model = lr_model\n",
    "    elif best_model_name == 'XGBoost':\n",
    "        final_model = xgb_model\n",
    "    else:\n",
    "        final_model = rf_model"
   ]
  },
  {
   "cell_type": "markdown",
   "metadata": {},
   "source": [
    "## 9. Model Saving"
   ]
  },
  {
   "cell_type": "code",
   "execution_count": null,
   "metadata": {},
   "outputs": [],
   "source": [
    "# Save the best model and preprocessing objects\n",
    "import os\n",
    "os.makedirs('../models', exist_ok=True)\n",
    "\n",
    "# Save models\n",
    "with open('../models/logistic_regression_model.pkl', 'wb') as f:\n",
    "    pickle.dump(lr_model, f)\n",
    "\n",
    "with open('../models/random_forest_model.pkl', 'wb') as f:\n",
    "    pickle.dump(rf_model, f)\n",
    "\n",
    "with open('../models/xgboost_model.pkl', 'wb') as f:\n",
    "    pickle.dump(xgb_model, f)\n",
    "\n",
    "# Save preprocessing objects\n",
    "with open('../models/scaler.pkl', 'wb') as f:\n",
    "    pickle.dump(scaler, f)\n",
    "\n",
    "with open('../models/encoders.pkl', 'wb') as f:\n",
    "    pickle.dump(encoders, f)\n",
    "\n",
    "# Save feature names\n",
    "with open('../models/feature_names.pkl', 'wb') as f:\n",
    "    pickle.dump(feature_names, f)\n",
    "\n",
    "print(\"Models and preprocessing objects saved successfully!\")"
   ]
  },
  {
   "cell_type": "markdown",
   "metadata": {},
   "source": [
    "## 10. Business Insights and Recommendations"
   ]
  },
  {
   "cell_type": "code",
   "execution_count": null,
   "metadata": {},
   "outputs": [],
   "source": [
    "# Generate comprehensive business insights\n",
    "insights = utils.generate_business_insights(df, final_model, feature_names)\n",
    "\n",
    "print(\"BUSINESS INSIGHTS AND RECOMMENDATIONS\")\n",
    "print(\"=\" * 50)\n",
    "\n",
    "print(f\"\\n1. MODEL PERFORMANCE:\")\n",
    "print(f\"   - Best model: {best_model_name}\")\n",
    "print(f\"   - ROC AUC Score: {results_df.loc[best_model_name, 'roc_auc']:.3f}\")\n",
    "print(f\"   - Accuracy: {results_df.loc[best_model_name, 'accuracy']:.3f}\")\n",
    "\n",
    "print(f\"\\n2. KEY CHURN DRIVERS:\")\n",
    "if 'top_churn_drivers' in insights:\n",
    "    for i, driver in enumerate(insights['top_churn_drivers'], 1):\n",
    "        print(f\"   {i}. {driver}\")\n",
    "\n",
    "print(f\"\\n3. BUSINESS METRICS:\")\n",
    "print(f\"   - Overall churn rate: {insights['overall_churn_rate']:.1%}\")\n",
    "if 'highest_risk_contract' in insights:\n",
    "    print(f\"   - Highest risk segment: {insights['highest_risk_contract']} contracts ({insights['highest_risk_contract_rate']:.1%})\")\n",
    "\n",
    "print(f\"\\n4. ACTIONABLE RECOMMENDATIONS:\")\n",
    "print(f\"   - Implement predictive churn scoring for all customers\")\n",
    "print(f\"   - Focus retention campaigns on high-risk segments\")\n",
    "print(f\"   - Develop early warning systems for new customers\")\n",
    "print(f\"   - Create personalized retention offers based on churn probability\")\n",
    "print(f\"   - Monitor and address the top churn drivers identified\")\n",
    "\n",
    "print(f\"\\n5. NEXT STEPS:\")\n",
    "print(f\"   - Deploy model in production environment\")\n",
    "print(f\"   - Set up automated model retraining pipeline\")\n",
    "print(f\"   - Create customer-facing dashboard for retention teams\")\n",
    "print(f\"   - A/B test retention strategies on predicted high-risk customers\")"
   ]
  }
 ],
 "metadata": {
  "kernelspec": {
   "display_name": "Python 3",
   "language": "python",
   "name": "python3"
  },
  "language_info": {
   "codemirror_mode": {
    "name": "ipython",
    "version": 3
   },
   "file_extension": ".py",
   "mimetype": "text/x-python",
   "name": "python",
   "nbconvert_exporter": "python",
   "pygments_lexer": "ipython3",
   "version": "3.8.5"
  }
 },
 "nbformat": 4,
 "nbformat_minor": 4
}